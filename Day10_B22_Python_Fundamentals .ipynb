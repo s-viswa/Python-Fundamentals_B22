{
 "cells": [
  {
   "cell_type": "code",
   "execution_count": null,
   "metadata": {},
   "outputs": [],
   "source": [
    "#Finding the odd or even numbers:"
   ]
  },
  {
   "cell_type": "code",
   "execution_count": null,
   "metadata": {},
   "outputs": [],
   "source": []
  },
  {
   "cell_type": "code",
   "execution_count": 7,
   "metadata": {},
   "outputs": [
    {
     "name": "stdout",
     "output_type": "stream",
     "text": [
      "Enter a num and i will tell you if its even or Odd!16\n",
      "\n",
      "The Input value 16 is even.\n"
     ]
    }
   ],
   "source": [
    "number = input (\"Enter a num and i will tell you if its even or Odd!\")\n",
    "number = int(number) # TypeCasting\n",
    "\n",
    "if number % 2 ==0:  #reminder\n",
    "    print(f\"\\nThe Input value {number} is even.\")\n",
    "else:\n",
    "    print(f\"\\nThe input value {number} is odd\")"
   ]
  },
  {
   "cell_type": "code",
   "execution_count": null,
   "metadata": {},
   "outputs": [],
   "source": []
  },
  {
   "cell_type": "code",
   "execution_count": 10,
   "metadata": {},
   "outputs": [
    {
     "name": "stdout",
     "output_type": "stream",
     "text": [
      "1\n",
      "2\n",
      "3\n",
      "4\n",
      "5\n",
      "6\n",
      "7\n",
      "8\n",
      "9\n",
      "10\n",
      "11\n",
      "12\n"
     ]
    }
   ],
   "source": [
    "current_num = 1 # Declaration of a variable # iteration\n",
    "\n",
    "while current_num <=12: #condition statement \n",
    "    print(current_num) #print statement\n",
    "    current_num +=1"
   ]
  },
  {
   "cell_type": "code",
   "execution_count": 11,
   "metadata": {},
   "outputs": [],
   "source": [
    "# understanding break and continue Keywords:\n"
   ]
  },
  {
   "cell_type": "code",
   "execution_count": 12,
   "metadata": {},
   "outputs": [],
   "source": [
    "prompt = \"\\npls enter the name of the city you have visited \"\n",
    "prompt +=\"\\nEnter 'quit' you have finished\""
   ]
  },
  {
   "cell_type": "code",
   "execution_count": 15,
   "metadata": {},
   "outputs": [
    {
     "name": "stdout",
     "output_type": "stream",
     "text": [
      "\n",
      "pls enter the name of the city you have visited \n",
      "Enter 'quit' you have finishedq\n",
      "i would like to visit that Q again\n",
      "\n",
      "pls enter the name of the city you have visited \n",
      "Enter 'quit' you have finishedquit\n"
     ]
    }
   ],
   "source": [
    "while True:\n",
    "    city = input(prompt)\n",
    "    \n",
    "    if city == \"quit\":\n",
    "        break\n",
    "    else:\n",
    "        print(f\"i would like to visit that {city.title()} again\")"
   ]
  },
  {
   "cell_type": "code",
   "execution_count": null,
   "metadata": {},
   "outputs": [],
   "source": [
    "while True:\n",
    "    city = input(prompt)\n",
    "    \n",
    "    if city == \"quit\":\n",
    "        continue\n",
    "    else:\n",
    "        print(f\"i would like to visit that {city.title()} again\")"
   ]
  },
  {
   "cell_type": "code",
   "execution_count": null,
   "metadata": {},
   "outputs": [],
   "source": []
  }
 ],
 "metadata": {
  "kernelspec": {
   "display_name": "Python 3",
   "language": "python",
   "name": "python3"
  },
  "language_info": {
   "codemirror_mode": {
    "name": "ipython",
    "version": 3
   },
   "file_extension": ".py",
   "mimetype": "text/x-python",
   "name": "python",
   "nbconvert_exporter": "python",
   "pygments_lexer": "ipython3",
   "version": "3.7.6"
  }
 },
 "nbformat": 4,
 "nbformat_minor": 4
}
