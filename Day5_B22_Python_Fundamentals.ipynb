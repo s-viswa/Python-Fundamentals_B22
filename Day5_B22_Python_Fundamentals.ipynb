{
 "cells": [
  {
   "cell_type": "code",
   "execution_count": 1,
   "metadata": {},
   "outputs": [],
   "source": [
    "# Intro to For Loops :\n"
   ]
  },
  {
   "cell_type": "code",
   "execution_count": 2,
   "metadata": {},
   "outputs": [],
   "source": [
    "Bank_customers = ['arsh','kiran','ravi','usha','bhavya','deepak'] # 6 customer axis bank"
   ]
  },
  {
   "cell_type": "code",
   "execution_count": null,
   "metadata": {},
   "outputs": [],
   "source": [
    "#requirments: Greeting the customers\n",
    "Axis Bank Wishes you a very happy new year, arsh..."
   ]
  },
  {
   "cell_type": "code",
   "execution_count": 3,
   "metadata": {},
   "outputs": [],
   "source": [
    "# Regular Way"
   ]
  },
  {
   "cell_type": "code",
   "execution_count": 4,
   "metadata": {},
   "outputs": [
    {
     "name": "stdout",
     "output_type": "stream",
     "text": [
      "Axis Bank wishes you a very happy new year,Arsh\n"
     ]
    }
   ],
   "source": [
    "print(f'Axis Bank wishes you a very happy new year,{Bank_customers[0].title()}')"
   ]
  },
  {
   "cell_type": "code",
   "execution_count": 5,
   "metadata": {},
   "outputs": [
    {
     "name": "stdout",
     "output_type": "stream",
     "text": [
      "Axis Bank wishes you a very happy new year,Kiran\n"
     ]
    }
   ],
   "source": [
    "print(f'Axis Bank wishes you a very happy new year,{Bank_customers[1].title()}')"
   ]
  },
  {
   "cell_type": "code",
   "execution_count": null,
   "metadata": {},
   "outputs": [],
   "source": []
  },
  {
   "cell_type": "code",
   "execution_count": 6,
   "metadata": {},
   "outputs": [],
   "source": [
    "# to Automate the solution."
   ]
  },
  {
   "cell_type": "code",
   "execution_count": 7,
   "metadata": {},
   "outputs": [
    {
     "name": "stdout",
     "output_type": "stream",
     "text": [
      "Axis Bank Wishes you a very Happy new Year.arsh\n",
      "Axis Bank Wishes you a very Happy new Year.kiran\n",
      "Axis Bank Wishes you a very Happy new Year.ravi\n",
      "Axis Bank Wishes you a very Happy new Year.usha\n",
      "Axis Bank Wishes you a very Happy new Year.bhavya\n",
      "Axis Bank Wishes you a very Happy new Year.deepak\n"
     ]
    }
   ],
   "source": [
    "for customers in Bank_customers:\n",
    "    print(f\"Axis Bank Wishes you a very Happy new Year.{customers}\")"
   ]
  },
  {
   "cell_type": "code",
   "execution_count": null,
   "metadata": {},
   "outputs": [],
   "source": [
    "# General syntax for a for loop\n",
    "\n",
    "for tempvar in mainvar: # Indentation:\n",
    "    print(tempvar)"
   ]
  },
  {
   "cell_type": "code",
   "execution_count": 10,
   "metadata": {},
   "outputs": [
    {
     "name": "stdout",
     "output_type": "stream",
     "text": [
      "Axis bank wishes you a very happy new year.arsh\n",
      "Axis bank wishes you a very happy new year.kiran\n",
      "Axis bank wishes you a very happy new year.ravi\n",
      "Axis bank wishes you a very happy new year.usha\n",
      "Axis bank wishes you a very happy new year.bhavya\n",
      "Axis bank wishes you a very happy new year.deepak\n"
     ]
    }
   ],
   "source": [
    "for batman in Bank_customers:\n",
    "    print(f\"Axis bank wishes you a very happy new year.{batman}\")"
   ]
  },
  {
   "cell_type": "code",
   "execution_count": 12,
   "metadata": {},
   "outputs": [
    {
     "name": "stdout",
     "output_type": "stream",
     "text": [
      "Axis bank wishes you a very happy new year,arsh\n",
      "Axis bank wishes you a very happy new year,kiran\n",
      "Axis bank wishes you a very happy new year,ravi\n",
      "Axis bank wishes you a very happy new year,usha\n",
      "Axis bank wishes you a very happy new year,bhavya\n",
      "Axis bank wishes you a very happy new year,deepak\n"
     ]
    }
   ],
   "source": [
    "for x in Bank_customers:\n",
    "    print(f\"Axis bank wishes you a very happy new year,{x}\")"
   ]
  },
  {
   "cell_type": "code",
   "execution_count": null,
   "metadata": {},
   "outputs": [],
   "source": [
    "#req To appreciate the Students."
   ]
  },
  {
   "cell_type": "code",
   "execution_count": 13,
   "metadata": {},
   "outputs": [],
   "source": [
    "my_students = ['rahul','ashish','shahdeena','samia','suresh']"
   ]
  },
  {
   "cell_type": "code",
   "execution_count": 14,
   "metadata": {},
   "outputs": [
    {
     "name": "stdout",
     "output_type": "stream",
     "text": [
      "rahul\n",
      "ashish\n",
      "shahdeena\n",
      "samia\n",
      "suresh\n"
     ]
    }
   ],
   "source": [
    "for student in my_students:\n",
    "    print(student)"
   ]
  },
  {
   "cell_type": "code",
   "execution_count": 15,
   "metadata": {},
   "outputs": [
    {
     "name": "stdout",
     "output_type": "stream",
     "text": [
      "keep up the good work,Rahul\n",
      "i am waiting to receive your practise files of today,rahul\n",
      "keep up the good work,Ashish\n",
      "i am waiting to receive your practise files of today,ashish\n",
      "keep up the good work,Shahdeena\n",
      "i am waiting to receive your practise files of today,shahdeena\n",
      "keep up the good work,Samia\n",
      "i am waiting to receive your practise files of today,samia\n",
      "keep up the good work,Suresh\n",
      "i am waiting to receive your practise files of today,suresh\n"
     ]
    }
   ],
   "source": [
    "for x in my_students:\n",
    "    print(f'keep up the good work,{x.title()}')\n",
    "    print(f\"i am waiting to receive your practise files of today,{x}\")\n"
   ]
  },
  {
   "cell_type": "code",
   "execution_count": 16,
   "metadata": {},
   "outputs": [
    {
     "name": "stdout",
     "output_type": "stream",
     "text": [
      "keep up the good work,Rahul\n",
      "i am waiting to receive your practise files of today,rahul.\n",
      "\n",
      "keep up the good work,Ashish\n",
      "i am waiting to receive your practise files of today,ashish.\n",
      "\n",
      "keep up the good work,Shahdeena\n",
      "i am waiting to receive your practise files of today,shahdeena.\n",
      "\n",
      "keep up the good work,Samia\n",
      "i am waiting to receive your practise files of today,samia.\n",
      "\n",
      "keep up the good work,Suresh\n",
      "i am waiting to receive your practise files of today,suresh.\n",
      "\n"
     ]
    }
   ],
   "source": [
    "for x in my_students:\n",
    "    print(f'keep up the good work,{x.title()}')\n",
    "    print(f\"i am waiting to receive your practise files of today,{x}.\\n\")\n"
   ]
  },
  {
   "cell_type": "code",
   "execution_count": 18,
   "metadata": {},
   "outputs": [
    {
     "name": "stdout",
     "output_type": "stream",
     "text": [
      "keep up the good work,Rahul\n",
      "i am waiting to receive your practise files of today,rahul.\n",
      "\n",
      "keep up the good work,Ashish\n",
      "i am waiting to receive your practise files of today,ashish.\n",
      "\n",
      "keep up the good work,Shahdeena\n",
      "i am waiting to receive your practise files of today,shahdeena.\n",
      "\n",
      "keep up the good work,Samia\n",
      "i am waiting to receive your practise files of today,samia.\n",
      "\n",
      "keep up the good work,Suresh\n",
      "i am waiting to receive your practise files of today,suresh.\n",
      "\n",
      "Thank you all for joining in the python training session!\n"
     ]
    }
   ],
   "source": [
    "for x in my_students:\n",
    "    print(f'keep up the good work,{x.title()}')\n",
    "    print(f\"i am waiting to receive your practise files of today,{x}.\\n\")\n",
    "\n",
    "print(\"Thank you all for joining in the python training session!\")"
   ]
  },
  {
   "cell_type": "code",
   "execution_count": null,
   "metadata": {},
   "outputs": [],
   "source": []
  }
 ],
 "metadata": {
  "kernelspec": {
   "display_name": "Python 3",
   "language": "python",
   "name": "python3"
  },
  "language_info": {
   "codemirror_mode": {
    "name": "ipython",
    "version": 3
   },
   "file_extension": ".py",
   "mimetype": "text/x-python",
   "name": "python",
   "nbconvert_exporter": "python",
   "pygments_lexer": "ipython3",
   "version": "3.7.6"
  }
 },
 "nbformat": 4,
 "nbformat_minor": 4
}
