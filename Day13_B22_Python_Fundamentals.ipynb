{
 "cells": [
  {
   "cell_type": "code",
   "execution_count": null,
   "metadata": {},
   "outputs": [],
   "source": [
    "Introduction to Python Classes:"
   ]
  },
  {
   "cell_type": "code",
   "execution_count": null,
   "metadata": {},
   "outputs": [],
   "source": [
    "class : Class is a high level blue print of the program\n",
    "  \n",
    "method : A funtion written inside a class is termed as method\n",
    "    \n",
    "attributes : A variable written inside the class is called aa an attribute\n",
    "    \n",
    "self : A self is nothing but a temporary placeholder for an object\n",
    "    \n",
    "object : Object is an entry point to the class methods..."
   ]
  },
  {
   "cell_type": "code",
   "execution_count": 17,
   "metadata": {},
   "outputs": [],
   "source": [
    "class User: #Class name .........# titlecase only\n",
    "    \"\"\"creating an userclass\"\"\"\n",
    "    \n",
    "    def createname(self,name): # Method\n",
    "        self.name = name # y.name = 'shailendra' #attribute\n",
    "        \n",
    "    def displayname(self): # method\n",
    "        print(self.name)\n",
    "        \n",
    "    def greetname(self): # method\n",
    "        print(f\"Hello, welcome to the session {self.name}\")"
   ]
  },
  {
   "cell_type": "code",
   "execution_count": 18,
   "metadata": {},
   "outputs": [],
   "source": [
    "x = User() # object asignment to a class..."
   ]
  },
  {
   "cell_type": "code",
   "execution_count": 19,
   "metadata": {},
   "outputs": [],
   "source": [
    "x.createname('sunil')"
   ]
  },
  {
   "cell_type": "code",
   "execution_count": 20,
   "metadata": {},
   "outputs": [
    {
     "name": "stdout",
     "output_type": "stream",
     "text": [
      "sunil\n"
     ]
    }
   ],
   "source": [
    "x.displayname()"
   ]
  },
  {
   "cell_type": "code",
   "execution_count": null,
   "metadata": {},
   "outputs": [],
   "source": [
    "OOPS ----> object oriented programming ....!"
   ]
  },
  {
   "cell_type": "code",
   "execution_count": null,
   "metadata": {},
   "outputs": [],
   "source": []
  }
 ],
 "metadata": {
  "kernelspec": {
   "display_name": "Python 3",
   "language": "python",
   "name": "python3"
  },
  "language_info": {
   "codemirror_mode": {
    "name": "ipython",
    "version": 3
   },
   "file_extension": ".py",
   "mimetype": "text/x-python",
   "name": "python",
   "nbconvert_exporter": "python",
   "pygments_lexer": "ipython3",
   "version": "3.7.6"
  }
 },
 "nbformat": 4,
 "nbformat_minor": 4
}
